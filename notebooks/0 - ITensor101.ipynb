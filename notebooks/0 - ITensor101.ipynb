{
 "cells": [
  {
   "cell_type": "markdown",
   "metadata": {},
   "source": [
    "# ITensor\n",
    "\n",
    "A convenient library when working in Tensor Network algorithms for Julia. These examples are taken from the [documentation](https://itensor.github.io/ITensors.jl/stable/examples/ITensor.html#Tracing-an-ITensor)"
   ]
  },
  {
   "cell_type": "code",
   "execution_count": 1,
   "metadata": {},
   "outputs": [],
   "source": [
    "using ITensors"
   ]
  },
  {
   "cell_type": "markdown",
   "metadata": {},
   "source": [
    "Creating a Tensor of order 3 with different dimensions."
   ]
  },
  {
   "cell_type": "code",
   "execution_count": 2,
   "metadata": {},
   "outputs": [
    {
     "data": {
      "text/plain": [
       "ITensor ord=3 (dim=3|id=659|\"index_i\") (dim=2|id=47|\"index_j\") (dim=4|id=893|\"index_k\")\n",
       "NDTensors.EmptyStorage{NDTensors.EmptyNumber,NDTensors.Dense{NDTensors.EmptyNumber,Array{NDTensors.EmptyNumber,1}}}"
      ]
     },
     "metadata": {},
     "output_type": "display_data"
    }
   ],
   "source": [
    "i = Index(3,\"index_i\")\n",
    "j = Index(2,\"index_j\")\n",
    "k = Index(4,\"index_k\")\n",
    "\n",
    "T = ITensor(i,j,k)"
   ]
  },
  {
   "cell_type": "code",
   "execution_count": 3,
   "metadata": {},
   "outputs": [
    {
     "name": "stdout",
     "output_type": "stream",
     "text": [
      "T inds = ("
     ]
    },
    {
     "name": "stdout",
     "output_type": "stream",
     "text": [
      "(dim=3|id=659|\"index_i\"), (dim=2|id=47|\"index_j\"), (dim=4|id=893|\"index_k\"))\n"
     ]
    }
   ],
   "source": [
    "println(\"T inds = \",inds(T))"
   ]
  },
  {
   "cell_type": "markdown",
   "metadata": {},
   "source": [
    "Setting the value at a given element $T_{1,3,2} = 5+2i$"
   ]
  },
  {
   "cell_type": "code",
   "execution_count": 4,
   "metadata": {},
   "outputs": [
    {
     "data": {
      "text/plain": [
       "5 + 2im"
      ]
     },
     "metadata": {},
     "output_type": "display_data"
    }
   ],
   "source": [
    "T[j=>1,k=>3,i=>2] = 5+2im"
   ]
  },
  {
   "cell_type": "code",
   "execution_count": 5,
   "metadata": {},
   "outputs": [
    {
     "name": "stdout",
     "output_type": "stream",
     "text": [
      "The (i,j,k) = (2,1,3) element of T is 5 + 2im\n"
     ]
    }
   ],
   "source": [
    "el = T[j=>1,i=>2,k=>3]\n",
    "println(\"The (i,j,k) = (2,1,3) element of T is \",el)"
   ]
  },
  {
   "cell_type": "code",
   "execution_count": 6,
   "metadata": {},
   "outputs": [
    {
     "name": "stdout",
     "output_type": "stream",
     "text": [
      "T = ITensor ord=3\n",
      "Dim 1: (dim=3|id=659|\"index_i\")\n",
      "Dim 2: (dim=2|id=47|\"index_j\")\n",
      "Dim 3: (dim=4|id=893|\"index_k\")\n",
      "NDTensors.Dense{Complex{Int64},Array{Complex{Int64},1}}\n",
      " 3×2×4\n",
      "[:, :, 1] =\n",
      " 0 + 0im  0 + 0im\n",
      " 0 + 0im  0 + 0im\n",
      " 0 + 0im  0 + 0im\n",
      "\n",
      "[:, :, 2] =\n",
      " 0 + 0im  0 + 0im\n",
      " 0 + 0im  0 + 0im\n",
      " 0 + 0im  0 + 0im\n",
      "\n",
      "[:, :, 3] =\n",
      " 0 + 0im  0 + 0im\n",
      " 5 + 2im  0 + 0im\n",
      " 0 + 0im  0 + 0im\n",
      "\n",
      "[:, :, 4] =\n",
      " 0 + 0im  0 + 0im\n",
      " 0 + 0im  0 + 0im\n",
      " 0 + 0im  0 + 0im\n"
     ]
    },
    {
     "data": {
      "text/plain": [
       "ITensor ord=3 (dim=3|id=659|\"index_i\") (dim=2|id=47|\"index_j\") (dim=4|id=893|\"index_k\")\n",
       "NDTensors.Dense{Complex{Int64},Array{Complex{Int64},1}}"
      ]
     },
     "metadata": {},
     "output_type": "display_data"
    }
   ],
   "source": [
    "@show T"
   ]
  },
  {
   "cell_type": "markdown",
   "metadata": {},
   "source": [
    "Making an ITensor from numeric arrays."
   ]
  },
  {
   "cell_type": "code",
   "execution_count": 7,
   "metadata": {},
   "outputs": [
    {
     "data": {
      "text/plain": [
       "ITensor ord=2 (dim=2|id=539|\"i\") (dim=2|id=796|\"j\")\n",
       "NDTensors.Dense{Float64,Array{Float64,1}}"
      ]
     },
     "metadata": {},
     "output_type": "display_data"
    }
   ],
   "source": [
    "M = [1.0 -2.0;\n",
    "     -3.0 4.0]\n",
    "\n",
    "i = Index(2,\"i\")\n",
    "j = Index(2,\"j\")\n",
    "\n",
    "A = ITensor(M,i,j)"
   ]
  },
  {
   "cell_type": "code",
   "execution_count": 8,
   "metadata": {},
   "outputs": [
    {
     "name": "stdout",
     "output_type": "stream",
     "text": [
      "A = ITensor ord=2\n",
      "Dim 1: (dim=2|id=539|\"i\")\n",
      "Dim 2: (dim=2|id=796|\"j\")\n",
      "NDTensors.Dense{Float64,Array{Float64,1}}\n",
      " 2×2\n",
      "  1.0  -2.0\n",
      " -3.0   4.0\n"
     ]
    },
    {
     "data": {
      "text/plain": [
       "ITensor ord=2 (dim=2|id=539|\"i\") (dim=2|id=796|\"j\")\n",
       "NDTensors.Dense{Float64,Array{Float64,1}}"
      ]
     },
     "metadata": {},
     "output_type": "display_data"
    }
   ],
   "source": [
    "@show A"
   ]
  },
  {
   "cell_type": "markdown",
   "metadata": {},
   "source": [
    "### Elementwise operations"
   ]
  },
  {
   "cell_type": "code",
   "execution_count": 9,
   "metadata": {},
   "outputs": [
    {
     "name": "stdout",
     "output_type": "stream",
     "text": [
      "A .*= 2.0 = ITensor ord=2\n",
      "Dim 1: (dim=2|id=539|\"i\")\n",
      "Dim 2: (dim=2|id=796|\"j\")\n",
      "NDTensors.Dense{Float64,Array{Float64,1}}\n",
      " 2×2\n",
      "  2.0  -4.0\n",
      " -6.0   8.0\n"
     ]
    },
    {
     "data": {
      "text/plain": [
       "ITensor ord=2 (dim=2|id=539|\"i\") (dim=2|id=796|\"j\")\n",
       "NDTensors.Dense{Float64,Array{Float64,1}}"
      ]
     },
     "metadata": {},
     "output_type": "display_data"
    }
   ],
   "source": [
    "@show A .*= 2.0"
   ]
  },
  {
   "cell_type": "code",
   "execution_count": 10,
   "metadata": {},
   "outputs": [
    {
     "data": {
      "text/plain": [
       "ITensor ord=2 (dim=2|id=539|\"i\") (dim=2|id=796|\"j\")\n",
       "NDTensors.Dense{Float64,Array{Float64,1}}"
      ]
     },
     "metadata": {},
     "output_type": "display_data"
    }
   ],
   "source": [
    "A .= abs.(A)"
   ]
  },
  {
   "cell_type": "code",
   "execution_count": 11,
   "metadata": {},
   "outputs": [
    {
     "name": "stdout",
     "output_type": "stream",
     "text": [
      "A = ITensor ord=2\n",
      "Dim 1: (dim=2|id=539|\"i\")\n",
      "Dim 2: (dim=2|id=796|\"j\")\n",
      "NDTensors.Dense{Float64,Array{Float64,1}}\n",
      " 2×2\n",
      " 2.0  4.0\n",
      " 6.0  8.0\n"
     ]
    },
    {
     "data": {
      "text/plain": [
       "ITensor ord=2 (dim=2|id=539|\"i\") (dim=2|id=796|\"j\")\n",
       "NDTensors.Dense{Float64,Array{Float64,1}}"
      ]
     },
     "metadata": {},
     "output_type": "display_data"
    }
   ],
   "source": [
    "@show A"
   ]
  },
  {
   "cell_type": "markdown",
   "metadata": {},
   "source": [
    "### Arithmetics"
   ]
  },
  {
   "cell_type": "code",
   "execution_count": 12,
   "metadata": {},
   "outputs": [
    {
     "data": {
      "text/plain": [
       "ITensor ord=3 (dim=4|id=801|\"k\") (dim=3|id=729|\"i\") (dim=2|id=339|\"j\")\n",
       "NDTensors.Dense{Float64,Array{Float64,1}}"
      ]
     },
     "metadata": {},
     "output_type": "display_data"
    }
   ],
   "source": [
    "i = Index(3,\"i\")\n",
    "j = Index(2,\"j\")\n",
    "k = Index(4,\"k\")\n",
    "\n",
    "A = randomITensor(i,j,k)\n",
    "B = randomITensor(i,j,k)\n",
    "C = randomITensor(k,i,j)"
   ]
  },
  {
   "cell_type": "code",
   "execution_count": 13,
   "metadata": {},
   "outputs": [
    {
     "name": "stdout",
     "output_type": "stream",
     "text": [
      "A + B = ITensor ord=3\n",
      "Dim 1: (dim=3|id=729|\"i\")\n",
      "Dim 2: (dim=2|id=339|\"j\")\n",
      "Dim 3: (dim=4|id=801|\"k\")\n",
      "NDTensors.Dense{Float64,Array{Float64,1}}\n",
      " 3×2×4\n",
      "[:, :, 1] =\n",
      " -2.04418442837519     1.4801737870124798\n",
      "  0.9399514335963322   0.1628231613071467\n",
      "  0.9522258959802101  -0.9153345635271172\n",
      "\n",
      "[:, :, 2] =\n",
      " 0.33386257580631795  -0.6893744834642066\n",
      " 0.08002073208731836  -1.1714244383713939\n",
      " 0.683760514442626     0.6565625731408096\n",
      "\n",
      "[:, :, 3] =\n",
      " -1.296596906933475    -1.0183740805824528\n",
      " -0.10601668201004166  -3.4167648958819536\n",
      "  1.0880623060555803   -0.17593537299527773\n",
      "\n",
      "[:, :, 4] =\n",
      "  1.741573096183334   -1.1215084926958787\n",
      " -1.0633204421874831   0.2261047509926487\n",
      "  2.1156241559162785   0.9369460650372303\n"
     ]
    },
    {
     "data": {
      "text/plain": [
       "ITensor ord=3 (dim=3|id=729|\"i\") (dim=2|id=339|\"j\") (dim=4|id=801|\"k\")\n",
       "NDTensors.Dense{Float64,Array{Float64,1}}"
      ]
     },
     "metadata": {},
     "output_type": "display_data"
    }
   ],
   "source": [
    "@show A+B"
   ]
  },
  {
   "cell_type": "code",
   "execution_count": 14,
   "metadata": {},
   "outputs": [
    {
     "name": "stdout",
     "output_type": "stream",
     "text": [
      "(A + B) - C = ITensor ord=3\n",
      "Dim 1: (dim=3|id=729|\"i\")\n",
      "Dim 2: (dim=2|id=339|\"j\")\n",
      "Dim 3: (dim=4|id=801|\"k\")\n",
      "NDTensors.Dense{Float64,Array{Float64,1}}\n",
      " 3×2×4\n",
      "[:, :, 1] =\n",
      " -2.347071920770196    0.8969075154944969\n",
      "  1.3172518105747175  -0.12548422112062518\n",
      "  0.7429843249685907  -0.47115963908234354\n",
      "\n",
      "[:, :, 2] =\n",
      "  0.41557707991675547    0.391657391536379\n",
      " -0.007016005348685475  -1.3831183165977163\n",
      " -0.4956922039068421     3.062994215007273\n",
      "\n",
      "[:, :, 3] =\n",
      " -0.8135886422222385  -1.8335831226494073\n",
      " -0.8823553091176707  -2.1732549508865797\n",
      "  0.7933083034985963   0.41061102811813666\n",
      "\n",
      "[:, :, 4] =\n",
      "  2.126388162611141    0.5101494482885691\n",
      " -2.9465927413927417   1.7088454173649317\n",
      "  0.38173997937042814  1.704715300662326\n"
     ]
    },
    {
     "data": {
      "text/plain": [
       "ITensor ord=3 (dim=3|id=729|\"i\") (dim=2|id=339|\"j\") (dim=4|id=801|\"k\")\n",
       "NDTensors.Dense{Float64,Array{Float64,1}}"
      ]
     },
     "metadata": {},
     "output_type": "display_data"
    }
   ],
   "source": [
    "@show A + B - C"
   ]
  },
  {
   "cell_type": "markdown",
   "metadata": {},
   "source": [
    "### Trace"
   ]
  },
  {
   "cell_type": "markdown",
   "metadata": {},
   "source": [
    "To do this in ITensor, we can use a delta tensor, which you can think of as an identity operator or more generally a Kronecker delta or \"hyper-edge\""
   ]
  },
  {
   "cell_type": "markdown",
   "metadata": {},
   "source": [
    "![trace_A](../assets/img/trace_A.png)"
   ]
  },
  {
   "cell_type": "code",
   "execution_count": 15,
   "metadata": {},
   "outputs": [
    {
     "name": "stdout",
     "output_type": "stream",
     "text": [
      "A = ITensor ord=3\n",
      "Dim 1: (dim=3|id=729|\"i\")\n",
      "Dim 2: (dim=2|id=339|\"j\")\n",
      "Dim 3: (dim=4|id=801|\"k\")\n",
      "NDTensors.Dense{Float64,Array{Float64,1}}\n",
      " 3×2×4\n",
      "[:, :, 1] =\n",
      " -1.0240343320252685   1.4427889131734941\n",
      "  0.9784151343451398  -0.44318494415067744\n",
      "  0.6966991357119754   0.3917341881136057\n",
      "\n",
      "[:, :, 2] =\n",
      " -0.672498508759746    -1.919867924676679\n",
      " -0.10219402276676762  -0.7277255191372074\n",
      "  1.0259265930689767   -0.9742510337653318\n",
      "\n",
      "[:, :, 3] =\n",
      " -0.8448862683432987  -0.2077500163733351\n",
      "  0.2753874216681483  -1.3714821624656794\n",
      " -0.6298405064596754   0.6968416464895152\n",
      "\n",
      "[:, :, 4] =\n",
      "  1.5475976443153299   -0.6199916641336296\n",
      " -0.5950991319501007    0.7012066296272333\n",
      " -0.22709455847843624  -0.096397848377457\n"
     ]
    },
    {
     "data": {
      "text/plain": [
       "ITensor ord=3 (dim=3|id=729|\"i\") (dim=2|id=339|\"j\") (dim=4|id=801|\"k\")\n",
       "NDTensors.Dense{Float64,Array{Float64,1}}"
      ]
     },
     "metadata": {},
     "output_type": "display_data"
    }
   ],
   "source": [
    "@show A"
   ]
  },
  {
   "cell_type": "code",
   "execution_count": 16,
   "metadata": {},
   "outputs": [
    {
     "data": {
      "text/plain": [
       "ITensor ord=1 (dim=2|id=339|\"j\")\n",
       "NDTensors.Dense{Float64,Array{Float64,1}}"
      ]
     },
     "metadata": {},
     "output_type": "display_data"
    }
   ],
   "source": [
    "trA = A * delta(i,k)"
   ]
  },
  {
   "cell_type": "code",
   "execution_count": 17,
   "metadata": {},
   "outputs": [
    {
     "name": "stdout",
     "output_type": "stream",
     "text": [
      "trA = ITensor ord=1\n",
      "Dim 1: (dim=2|id=339|\"j\")\n",
      "NDTensors.Dense{Float64,Array{Float64,1}}\n",
      " 2-element\n",
      " -1.7560688612517117\n",
      "  1.4119050405258018\n"
     ]
    },
    {
     "data": {
      "text/plain": [
       "ITensor ord=1 (dim=2|id=339|\"j\")\n",
       "NDTensors.Dense{Float64,Array{Float64,1}}"
      ]
     },
     "metadata": {},
     "output_type": "display_data"
    }
   ],
   "source": [
    "@show trA"
   ]
  },
  {
   "cell_type": "markdown",
   "metadata": {},
   "source": [
    "### Factoring: Singular Value Decomposition & QR"
   ]
  },
  {
   "cell_type": "code",
   "execution_count": 18,
   "metadata": {},
   "outputs": [
    {
     "name": "stdout",
     "output_type": "stream",
     "text": [
      "norm(U * S * V - A) = 1.1491780379324727e-15\n"
     ]
    },
    {
     "data": {
      "text/plain": [
       "1.1491780379324727e-15"
      ]
     },
     "metadata": {},
     "output_type": "display_data"
    }
   ],
   "source": [
    "U,S,V = svd(A,(i,k))\n",
    "\n",
    "@show norm(U*S*V-A)"
   ]
  },
  {
   "cell_type": "code",
   "execution_count": 20,
   "metadata": {},
   "outputs": [
    {
     "name": "stdout",
     "output_type": "stream",
     "text": [
      "norm(Q * R - A) = 8.433539757789763e-16\n"
     ]
    },
    {
     "data": {
      "text/plain": [
       "8.433539757789763e-16"
      ]
     },
     "metadata": {},
     "output_type": "display_data"
    }
   ],
   "source": [
    "Q,R = qr(A, (i,k);positive=true)\n",
    "\n",
    "@show norm(Q*R - A)"
   ]
  }
 ],
 "metadata": {
  "kernelspec": {
   "display_name": "Julia 1.4.1",
   "language": "julia",
   "name": "julia-1.4"
  },
  "language_info": {
   "file_extension": ".jl",
   "mimetype": "application/julia",
   "name": "julia",
   "version": "1.4.1"
  },
  "orig_nbformat": 4
 },
 "nbformat": 4,
 "nbformat_minor": 2
}

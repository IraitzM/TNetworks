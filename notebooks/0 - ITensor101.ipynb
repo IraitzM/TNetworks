{
 "cells": [
  {
   "cell_type": "markdown",
   "metadata": {},
   "source": [
    "# ITensor\n",
    "\n",
    "A convenient library when working in Tensor Network algorithms for Julia. These examples are taken from the [documentation](https://itensor.github.io/ITensors.jl/stable/examples/ITensor.html#Tracing-an-ITensor)"
   ]
  },
  {
   "cell_type": "code",
   "execution_count": null,
   "metadata": {},
   "outputs": [],
   "source": [
    "using ITensors"
   ]
  },
  {
   "cell_type": "markdown",
   "metadata": {},
   "source": [
    "Creating a Tensor of order 3 with different dimensions."
   ]
  },
  {
   "cell_type": "code",
   "execution_count": 8,
   "metadata": {},
   "outputs": [
    {
     "data": {
      "text/plain": [
       "ITensor ord=3 (dim=3|id=368|\"index_i\") (dim=2|id=571|\"index_j\") (dim=4|id=752|\"index_k\")\n",
       "NDTensors.EmptyStorage{NDTensors.EmptyNumber,NDTensors.Dense{NDTensors.EmptyNumber,Array{NDTensors.EmptyNumber,1}}}"
      ]
     },
     "metadata": {},
     "output_type": "display_data"
    }
   ],
   "source": [
    "i = Index(3,\"index_i\")\n",
    "j = Index(2,\"index_j\")\n",
    "k = Index(4,\"index_k\")\n",
    "\n",
    "T = ITensor(i,j,k)"
   ]
  },
  {
   "cell_type": "code",
   "execution_count": 14,
   "metadata": {},
   "outputs": [
    {
     "name": "stdout",
     "output_type": "stream",
     "text": [
      "T inds = ("
     ]
    },
    {
     "name": "stdout",
     "output_type": "stream",
     "text": [
      "(dim=3|id=368|\"index_i\"), (dim=2|id=571|\"index_j\"), (dim=4|id=752|\"index_k\"))\n"
     ]
    }
   ],
   "source": [
    "println(\"T inds = \",inds(T))"
   ]
  },
  {
   "cell_type": "markdown",
   "metadata": {},
   "source": [
    "Setting the value at a given element $T_{1,3,2} = 5+2i$"
   ]
  },
  {
   "cell_type": "code",
   "execution_count": 10,
   "metadata": {},
   "outputs": [
    {
     "data": {
      "text/plain": [
       "5 + 2im"
      ]
     },
     "metadata": {},
     "output_type": "display_data"
    }
   ],
   "source": [
    "T[j=>1,k=>3,i=>2] = 5+2im"
   ]
  },
  {
   "cell_type": "code",
   "execution_count": 15,
   "metadata": {},
   "outputs": [
    {
     "name": "stdout",
     "output_type": "stream",
     "text": [
      "The (i,j,k) = (2,1,3) element of T is 5 + 2im\n"
     ]
    }
   ],
   "source": [
    "el = T[j=>1,i=>2,k=>3]\n",
    "println(\"The (i,j,k) = (2,1,3) element of T is \",el)"
   ]
  },
  {
   "cell_type": "code",
   "execution_count": 11,
   "metadata": {},
   "outputs": [
    {
     "name": "stdout",
     "output_type": "stream",
     "text": [
      "T = ITensor ord=3\n",
      "Dim 1: (dim=3|id=368|\"index_i\")\n",
      "Dim 2: (dim=2|id=571|\"index_j\")\n",
      "Dim 3: (dim=4|id=752|\"index_k\")\n",
      "NDTensors.Dense{Complex{Int64},Array{Complex{Int64},1}}\n",
      " 3×2×4\n",
      "[:, :, 1] =\n",
      " 0 + 0im  0 + 0im\n",
      " 0 + 0im  0 + 0im\n",
      " 0 + 0im  0 + 0im\n",
      "\n",
      "[:, :, 2] =\n",
      " 0 + 0im  0 + 0im\n",
      " 0 + 0im  0 + 0im\n",
      " 0 + 0im  0 + 0im\n",
      "\n",
      "[:, :, 3] =\n",
      " 0 + 0im  0 + 0im\n",
      " 5 + 2im  0 + 0im\n",
      " 0 + 0im  0 + 0im\n",
      "\n",
      "[:, :, 4] =\n",
      " 0 + 0im  0 + 0im\n",
      " 0 + 0im  0 + 0im\n",
      " 0 + 0im  0 + 0im\n"
     ]
    },
    {
     "data": {
      "text/plain": [
       "ITensor ord=3 (dim=3|id=368|\"index_i\") (dim=2|id=571|\"index_j\") (dim=4|id=752|\"index_k\")\n",
       "NDTensors.Dense{Complex{Int64},Array{Complex{Int64},1}}"
      ]
     },
     "metadata": {},
     "output_type": "display_data"
    }
   ],
   "source": [
    "@show T"
   ]
  },
  {
   "cell_type": "markdown",
   "metadata": {},
   "source": [
    "Making an ITensor from numeric arrays."
   ]
  },
  {
   "cell_type": "code",
   "execution_count": 29,
   "metadata": {},
   "outputs": [
    {
     "data": {
      "text/plain": [
       "ITensor ord=2 (dim=2|id=151|\"i\") (dim=2|id=200|\"j\")\n",
       "NDTensors.Dense{Float64,Array{Float64,1}}"
      ]
     },
     "metadata": {},
     "output_type": "display_data"
    }
   ],
   "source": [
    "M = [1.0 -2.0;\n",
    "     -3.0 4.0]\n",
    "\n",
    "i = Index(2,\"i\")\n",
    "j = Index(2,\"j\")\n",
    "\n",
    "A = ITensor(M,i,j)"
   ]
  },
  {
   "cell_type": "code",
   "execution_count": 30,
   "metadata": {},
   "outputs": [
    {
     "name": "stdout",
     "output_type": "stream",
     "text": [
      "A = ITensor ord=2\n",
      "Dim 1: (dim=2|id=151|\"i\")\n",
      "Dim 2: (dim=2|id=200|\"j\")\n",
      "NDTensors.Dense{Float64,Array{Float64,1}}\n",
      " 2×2\n",
      "  1.0  -2.0\n",
      " -3.0   4.0\n"
     ]
    },
    {
     "data": {
      "text/plain": [
       "ITensor ord=2 (dim=2|id=151|\"i\") (dim=2|id=200|\"j\")\n",
       "NDTensors.Dense{Float64,Array{Float64,1}}"
      ]
     },
     "metadata": {},
     "output_type": "display_data"
    }
   ],
   "source": [
    "@show A"
   ]
  },
  {
   "cell_type": "markdown",
   "metadata": {},
   "source": [
    "### Elementwise operations"
   ]
  },
  {
   "cell_type": "code",
   "execution_count": 31,
   "metadata": {},
   "outputs": [
    {
     "name": "stdout",
     "output_type": "stream",
     "text": [
      "A .*= 2.0 = ITensor ord=2\n",
      "Dim 1: (dim=2|id=151|\"i\")\n",
      "Dim 2: (dim=2|id=200|\"j\")\n",
      "NDTensors.Dense{Float64,Array{Float64,1}}\n",
      " 2×2\n",
      "  2.0  -4.0\n",
      " -6.0   8.0\n"
     ]
    },
    {
     "data": {
      "text/plain": [
       "ITensor ord=2 (dim=2|id=151|\"i\") (dim=2|id=200|\"j\")\n",
       "NDTensors.Dense{Float64,Array{Float64,1}}"
      ]
     },
     "metadata": {},
     "output_type": "display_data"
    }
   ],
   "source": [
    "@show A .*= 2.0"
   ]
  },
  {
   "cell_type": "code",
   "execution_count": 32,
   "metadata": {},
   "outputs": [
    {
     "data": {
      "text/plain": [
       "ITensor ord=2 (dim=2|id=151|\"i\") (dim=2|id=200|\"j\")\n",
       "NDTensors.Dense{Float64,Array{Float64,1}}"
      ]
     },
     "metadata": {},
     "output_type": "display_data"
    }
   ],
   "source": [
    "A .= abs.(A)"
   ]
  },
  {
   "cell_type": "code",
   "execution_count": 33,
   "metadata": {},
   "outputs": [
    {
     "name": "stdout",
     "output_type": "stream",
     "text": [
      "A = ITensor ord=2\n",
      "Dim 1: (dim=2|id=151|\"i\")\n",
      "Dim 2: (dim=2|id=200|\"j\")\n",
      "NDTensors.Dense{Float64,Array{Float64,1}}\n",
      " 2×2\n",
      " 2.0  4.0\n",
      " 6.0  8.0\n"
     ]
    },
    {
     "data": {
      "text/plain": [
       "ITensor ord=2 (dim=2|id=151|\"i\") (dim=2|id=200|\"j\")\n",
       "NDTensors.Dense{Float64,Array{Float64,1}}"
      ]
     },
     "metadata": {},
     "output_type": "display_data"
    }
   ],
   "source": [
    "@show A"
   ]
  },
  {
   "cell_type": "markdown",
   "metadata": {},
   "source": [
    "### Arithmetics"
   ]
  },
  {
   "cell_type": "code",
   "execution_count": 34,
   "metadata": {},
   "outputs": [
    {
     "data": {
      "text/plain": [
       "ITensor ord=3 (dim=4|id=185|\"k\") (dim=3|id=802|\"i\") (dim=2|id=914|\"j\")\n",
       "NDTensors.Dense{Float64,Array{Float64,1}}"
      ]
     },
     "metadata": {},
     "output_type": "display_data"
    }
   ],
   "source": [
    "i = Index(3,\"i\")\n",
    "j = Index(2,\"j\")\n",
    "k = Index(4,\"k\")\n",
    "\n",
    "A = randomITensor(i,j,k)\n",
    "B = randomITensor(i,j,k)\n",
    "C = randomITensor(k,i,j)"
   ]
  },
  {
   "cell_type": "code",
   "execution_count": 35,
   "metadata": {},
   "outputs": [
    {
     "name": "stdout",
     "output_type": "stream",
     "text": [
      "A + B = ITensor ord=3\n",
      "Dim 1: (dim=3|id=802|\"i\")\n",
      "Dim 2: (dim=2|id=914|\"j\")\n",
      "Dim 3: (dim=4|id=185|\"k\")\n",
      "NDTensors.Dense{Float64,Array{Float64,1}}\n",
      " 3×2×4\n",
      "[:, :, 1] =\n",
      "  0.8467124434696456     1.0079771459836067\n",
      " -0.5346055532767313    -0.9816008320681964\n",
      "  0.003422219977912644   1.71930777678977\n",
      "\n",
      "[:, :, 2] =\n",
      " 1.293334580359939   -1.193547402230047\n",
      " 0.6825823327317375  -0.20329922750836382\n",
      " 0.4920322362159911  -0.38619147999842507\n",
      "\n",
      "[:, :, 3] =\n",
      " -2.3760503685398326  -2.681611136723132\n",
      " -0.5120997578802433  -1.7061765031001264\n",
      "  0.1675546907405645  -3.937846778837278\n",
      "\n",
      "[:, :, 4] =\n",
      "  0.6861551146977027    1.0050907561249276\n",
      " -2.1271766350833676    2.783086748817989\n",
      "  0.36290066708826146  -0.8393741040420097\n"
     ]
    },
    {
     "data": {
      "text/plain": [
       "ITensor ord=3 (dim=3|id=802|\"i\") (dim=2|id=914|\"j\") (dim=4|id=185|\"k\")\n",
       "NDTensors.Dense{Float64,Array{Float64,1}}"
      ]
     },
     "metadata": {},
     "output_type": "display_data"
    }
   ],
   "source": [
    "@show A+B"
   ]
  },
  {
   "cell_type": "code",
   "execution_count": 36,
   "metadata": {},
   "outputs": [
    {
     "name": "stdout",
     "output_type": "stream",
     "text": [
      "(A + B) - C = ITensor ord=3\n",
      "Dim 1: (dim=3|id=802|\"i\")\n",
      "Dim 2: (dim=2|id=914|\"j\")\n",
      "Dim 3: (dim=4|id=185|\"k\")\n",
      "NDTensors.Dense{Float64,Array{Float64,1}}\n",
      " 3×2×4\n",
      "[:, :, 1] =\n",
      "  1.042372148121997   1.226389618991777\n",
      " -0.8922771866062869  0.8491796175314339\n",
      " -0.1944652298250768  1.9931723660836629\n",
      "\n",
      "[:, :, 2] =\n",
      "  0.977930328879915   -0.8996218502720907\n",
      " -0.3017655661839185   1.058133179850595\n",
      " -1.4446178512908068  -0.3542357845616699\n",
      "\n",
      "[:, :, 3] =\n",
      " -1.9868483560478982  -2.0774650100318572\n",
      " -1.5851496305470785  -4.376988161113784\n",
      " -1.6314268885724463  -3.575718054842421\n",
      "\n",
      "[:, :, 4] =\n",
      "  0.20832037732355724   0.9418999169592385\n",
      " -3.578238800521631     3.072441023063633\n",
      " -0.13117752711237624  -1.821225439143392\n"
     ]
    },
    {
     "data": {
      "text/plain": [
       "ITensor ord=3 (dim=3|id=802|\"i\") (dim=2|id=914|\"j\") (dim=4|id=185|\"k\")\n",
       "NDTensors.Dense{Float64,Array{Float64,1}}"
      ]
     },
     "metadata": {},
     "output_type": "display_data"
    }
   ],
   "source": [
    "@show A + B - C"
   ]
  },
  {
   "cell_type": "markdown",
   "metadata": {},
   "source": [
    "### Trace"
   ]
  },
  {
   "cell_type": "markdown",
   "metadata": {},
   "source": [
    "To do this in ITensor, we can use a delta tensor, which you can think of as an identity operator or more generally a Kronecker delta or \"hyper-edge\""
   ]
  },
  {
   "cell_type": "markdown",
   "metadata": {},
   "source": [
    "![trace_A](../assets/img/trace_A.png)"
   ]
  },
  {
   "cell_type": "code",
   "execution_count": 40,
   "metadata": {},
   "outputs": [
    {
     "name": "stdout",
     "output_type": "stream",
     "text": [
      "A = ITensor ord=3\n",
      "Dim 1: (dim=3|id=802|\"i\")\n",
      "Dim 2: (dim=2|id=914|\"j\")\n",
      "Dim 3: (dim=4|id=185|\"k\")\n",
      "NDTensors.Dense{Float64,Array{Float64,1}}\n",
      " 3×2×4\n",
      "[:, :, 1] =\n",
      "  0.26561068436921903  -0.26547975428499887\n",
      " -0.4782875934395217    0.4769444199454562\n",
      " -0.4178101034017461    0.18744321763149366\n",
      "\n",
      "[:, :, 2] =\n",
      " 0.32240827116451515  -1.5107867105985056\n",
      " 0.10273918231134326   0.5519340670691808\n",
      " 0.3390201169678964    0.6537436998851457\n",
      "\n",
      "[:, :, 3] =\n",
      " -0.9531065583979812   -1.580585292796355\n",
      " -0.41937316884154313  -0.3930358202020519\n",
      " -0.5914986999387768   -1.787979419709314\n",
      "\n",
      "[:, :, 4] =\n",
      "  0.7297365122826407    0.5842122767892328\n",
      " -1.1994176251562954   -0.18537895352775074\n",
      " -0.19030326638031908   0.48513334474036296\n"
     ]
    },
    {
     "data": {
      "text/plain": [
       "ITensor ord=3 (dim=3|id=802|\"i\") (dim=2|id=914|\"j\") (dim=4|id=185|\"k\")\n",
       "NDTensors.Dense{Float64,Array{Float64,1}}"
      ]
     },
     "metadata": {},
     "output_type": "display_data"
    }
   ],
   "source": [
    "@show A"
   ]
  },
  {
   "cell_type": "code",
   "execution_count": 38,
   "metadata": {},
   "outputs": [
    {
     "data": {
      "text/plain": [
       "ITensor ord=1 (dim=2|id=914|\"j\")\n",
       "NDTensors.Dense{Float64,Array{Float64,1}}"
      ]
     },
     "metadata": {},
     "output_type": "display_data"
    }
   ],
   "source": [
    "trA = A * delta(i,k)"
   ]
  },
  {
   "cell_type": "code",
   "execution_count": 39,
   "metadata": {},
   "outputs": [
    {
     "name": "stdout",
     "output_type": "stream",
     "text": [
      "trA = ITensor ord=1\n",
      "Dim 1: (dim=2|id=914|\"j\")\n",
      "NDTensors.Dense{Float64,Array{Float64,1}}\n",
      " 2-element\n",
      " -0.2231488332582145\n",
      " -1.501525106925132\n"
     ]
    },
    {
     "data": {
      "text/plain": [
       "ITensor ord=1 (dim=2|id=914|\"j\")\n",
       "NDTensors.Dense{Float64,Array{Float64,1}}"
      ]
     },
     "metadata": {},
     "output_type": "display_data"
    }
   ],
   "source": [
    "@show trA"
   ]
  },
  {
   "cell_type": "markdown",
   "metadata": {},
   "source": [
    "### Factoring: Singular Value Decomposition"
   ]
  },
  {
   "cell_type": "code",
   "execution_count": 42,
   "metadata": {},
   "outputs": [
    {
     "name": "stdout",
     "output_type": "stream",
     "text": [
      "norm(U * S * V - A) = 6.183017822721088e-16\n"
     ]
    },
    {
     "data": {
      "text/plain": [
       "6.183017822721088e-16"
      ]
     },
     "metadata": {},
     "output_type": "display_data"
    }
   ],
   "source": [
    "U,S,V = svd(A,(i,k))\n",
    "\n",
    "@show norm(U*S*V-A)"
   ]
  }
 ],
 "metadata": {
  "kernelspec": {
   "display_name": "Julia 1.4.1",
   "language": "julia",
   "name": "julia-1.4"
  },
  "language_info": {
   "file_extension": ".jl",
   "mimetype": "application/julia",
   "name": "julia",
   "version": "1.4.1"
  },
  "orig_nbformat": 4
 },
 "nbformat": 4,
 "nbformat_minor": 2
}

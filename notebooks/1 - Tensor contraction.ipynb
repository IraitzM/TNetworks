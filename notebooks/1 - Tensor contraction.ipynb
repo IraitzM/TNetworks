{
 "cells": [
  {
   "cell_type": "markdown",
   "metadata": {},
   "source": [
    "# Tensor contraction\n",
    "\n",
    "Let's try to play with our tensors in order to rearange them. Taken form the examples [here](https://github.com/DromaninCM/JTensorNetwork/blob/main/Tutorials/02_Tensor_contraction.ipynb)"
   ]
  },
  {
   "cell_type": "code",
   "execution_count": 1,
   "metadata": {},
   "outputs": [],
   "source": [
    "using ITensors"
   ]
  },
  {
   "cell_type": "markdown",
   "metadata": {},
   "source": [
    "![threebody](../assets/img/threebody.png)"
   ]
  },
  {
   "cell_type": "code",
   "execution_count": 2,
   "metadata": {},
   "outputs": [
    {
     "data": {
      "text/plain": [
       "(dim=2|id=342|\"index_m\")"
      ]
     },
     "metadata": {},
     "output_type": "display_data"
    }
   ],
   "source": [
    "α = Index(2,\"index_a\")\n",
    "β = Index(2,\"index_b\")\n",
    "γ = Index(2,\"index_g\")\n",
    "δ = Index(2,\"index_d\")\n",
    "μ = Index(2,\"index_m\")"
   ]
  },
  {
   "cell_type": "markdown",
   "metadata": {},
   "source": [
    "We have create 5 index in order to be considered within three bodies."
   ]
  },
  {
   "cell_type": "code",
   "execution_count": 3,
   "metadata": {},
   "outputs": [
    {
     "data": {
      "text/plain": [
       "ITensor ord=2 (dim=2|id=9|\"index_g\") (dim=2|id=835|\"index_d\")\n",
       "NDTensors.Dense{Float64,Array{Float64,1}}"
      ]
     },
     "metadata": {},
     "output_type": "display_data"
    }
   ],
   "source": [
    "A = randomITensor(γ, δ)"
   ]
  },
  {
   "cell_type": "code",
   "execution_count": 4,
   "metadata": {},
   "outputs": [
    {
     "data": {
      "text/plain": [
       "ITensor ord=3 (dim=2|id=9|\"index_g\") (dim=2|id=342|\"index_m\") (dim=2|id=655|\"index_a\")\n",
       "NDTensors.Dense{Float64,Array{Float64,1}}"
      ]
     },
     "metadata": {},
     "output_type": "display_data"
    }
   ],
   "source": [
    "B = randomITensor(γ, μ, α)"
   ]
  },
  {
   "cell_type": "code",
   "execution_count": 5,
   "metadata": {},
   "outputs": [
    {
     "data": {
      "text/plain": [
       "ITensor ord=3 (dim=2|id=675|\"index_b\") (dim=2|id=342|\"index_m\") (dim=2|id=835|\"index_d\")\n",
       "NDTensors.Dense{Float64,Array{Float64,1}}"
      ]
     },
     "metadata": {},
     "output_type": "display_data"
    }
   ],
   "source": [
    "C = randomITensor(β, μ, δ)"
   ]
  },
  {
   "cell_type": "code",
   "execution_count": 6,
   "metadata": {},
   "outputs": [
    {
     "name": "stdout",
     "output_type": "stream",
     "text": [
      "B = ITensor ord=3\n",
      "Dim 1: (dim=2|id=9|\"index_g\")\n",
      "Dim 2: (dim=2|id=342|\"index_m\")\n",
      "Dim 3: (dim=2|id=655|\"index_a\")\n",
      "NDTensors.Dense{Float64,Array{Float64,1}}\n",
      " 2×2×2\n",
      "[:, :, 1] =\n",
      " 0.4306061031939704   -0.40042887256029236\n",
      " 0.33771044452148047   0.026131246209501847\n",
      "\n",
      "[:, :, 2] =\n",
      " -1.0875346194988291  0.07158825232099061\n",
      "  1.0555159907978968  1.3960074388499317\n"
     ]
    },
    {
     "data": {
      "text/plain": [
       "ITensor ord=3 (dim=2|id=9|\"index_g\") (dim=2|id=342|\"index_m\") (dim=2|id=655|\"index_a\")\n",
       "NDTensors.Dense{Float64,Array{Float64,1}}"
      ]
     },
     "metadata": {},
     "output_type": "display_data"
    }
   ],
   "source": [
    "@show B"
   ]
  },
  {
   "cell_type": "code",
   "execution_count": 7,
   "metadata": {},
   "outputs": [
    {
     "data": {
      "text/plain": [
       "ITensor ord=3 (dim=2|id=655|\"index_a\") (dim=2|id=9|\"index_g\") (dim=2|id=342|\"index_m\")\n",
       "NDTensors.Dense{Float64,Array{Float64,1}}"
      ]
     },
     "metadata": {},
     "output_type": "display_data"
    }
   ],
   "source": [
    "# Permute the indices of B so that:\n",
    "# B(γ,μ,α) -> B(α,γ,μ)\n",
    "\n",
    "B1 = permute(B, α, γ, μ)"
   ]
  },
  {
   "cell_type": "code",
   "execution_count": 8,
   "metadata": {},
   "outputs": [
    {
     "name": "stdout",
     "output_type": "stream",
     "text": [
      "B1 = ITensor ord=3\n",
      "Dim 1: (dim=2|id=655|\"index_a\")\n",
      "Dim 2: (dim=2|id=9|\"index_g\")\n",
      "Dim 3: (dim=2|id=342|\"index_m\")\n",
      "NDTensors.Dense{Float64,Array{Float64,1}}\n",
      " 2×2×2\n",
      "[:, :, 1] =\n",
      "  0.4306061031939704  0.33771044452148047\n",
      " -1.0875346194988291  1.0555159907978968\n",
      "\n",
      "[:, :, 2] =\n",
      " -0.40042887256029236  0.026131246209501847\n",
      "  0.07158825232099061  1.3960074388499317\n"
     ]
    },
    {
     "data": {
      "text/plain": [
       "ITensor ord=3 (dim=2|id=655|\"index_a\") (dim=2|id=9|\"index_g\") (dim=2|id=342|\"index_m\")\n",
       "NDTensors.Dense{Float64,Array{Float64,1}}"
      ]
     },
     "metadata": {},
     "output_type": "display_data"
    }
   ],
   "source": [
    "@show B1"
   ]
  },
  {
   "cell_type": "code",
   "execution_count": 9,
   "metadata": {},
   "outputs": [
    {
     "name": "stdout",
     "output_type": "stream",
     "text": [
      "cT * B1 = ITensor ord=2\n",
      "Dim 1: (dim=4|id=907|\"CMB,Link\")\n",
      "Dim 2: (dim=2|id=342|\"index_m\")\n",
      "NDTensors.Dense{Float64,Array{Float64,1}}\n",
      " 4×2\n",
      "  0.4306061031939704   -0.40042887256029236\n",
      " -1.0875346194988291    0.07158825232099061\n",
      "  0.33771044452148047   0.026131246209501847\n",
      "  1.0555159907978968    1.3960074388499317\n"
     ]
    },
    {
     "data": {
      "text/plain": [
       "ITensor ord=2 (dim=4|id=907|\"CMB,Link\") (dim=2|id=342|\"index_m\")\n",
       "NDTensors.Dense{Float64,Array{Float64,1}}"
      ]
     },
     "metadata": {},
     "output_type": "display_data"
    }
   ],
   "source": [
    "# Reshape the B tensor so that it is a matrix\n",
    "# B(α,γ,μ) --> B(α*γ,μ)\n",
    "\n",
    "cT = combiner(α,γ);\n",
    "@show cT * B1"
   ]
  },
  {
   "cell_type": "code",
   "execution_count": 10,
   "metadata": {},
   "outputs": [
    {
     "data": {
      "text/plain": [
       "(dim=4|id=907|\"CMB,Link\")"
      ]
     },
     "metadata": {},
     "output_type": "display_data"
    }
   ],
   "source": [
    "B1 = cT * B1\n",
    "B1i = combinedind(cT)"
   ]
  },
  {
   "cell_type": "code",
   "execution_count": 11,
   "metadata": {},
   "outputs": [
    {
     "data": {
      "text/plain": [
       "ITensor ord=3 (dim=2|id=342|\"index_m\") (dim=2|id=675|\"index_b\") (dim=2|id=835|\"index_d\")\n",
       "NDTensors.Dense{Float64,Array{Float64,1}}"
      ]
     },
     "metadata": {},
     "output_type": "display_data"
    }
   ],
   "source": [
    "# Permute the indices of C so that:\n",
    "# C(β,μ,δ) -> C(μ,β,δ)\n",
    "\n",
    "C1 = permute(C,μ,β,δ)"
   ]
  },
  {
   "cell_type": "code",
   "execution_count": 12,
   "metadata": {},
   "outputs": [
    {
     "name": "stdout",
     "output_type": "stream",
     "text": [
      "cT * C1 = ITensor ord=2\n",
      "Dim 1: (dim=4|id=900|\"CMB,Link\")\n",
      "Dim 2: (dim=2|id=342|\"index_m\")\n",
      "NDTensors.Dense{Float64,Array{Float64,1}}\n",
      " 4×2\n",
      " -0.5256133232166081   1.1126065807775494\n",
      " -1.4089511919951068   1.1583319117681652\n",
      "  1.5879192255160937  -0.04500897509924624\n",
      "  0.3110719905765101   0.6820897634406258\n"
     ]
    },
    {
     "data": {
      "text/plain": [
       "ITensor ord=2 (dim=4|id=900|\"CMB,Link\") (dim=2|id=342|\"index_m\")\n",
       "NDTensors.Dense{Float64,Array{Float64,1}}"
      ]
     },
     "metadata": {},
     "output_type": "display_data"
    }
   ],
   "source": [
    "# Reshape the C tensor so that it is a matrix\n",
    "# C(μ,β,δ) --> C(μ,β*δ)\n",
    "\n",
    "cT = combiner(β,δ);\n",
    "@show cT * C1"
   ]
  },
  {
   "cell_type": "code",
   "execution_count": 13,
   "metadata": {},
   "outputs": [
    {
     "data": {
      "text/plain": [
       "(dim=4|id=900|\"CMB,Link\")"
      ]
     },
     "metadata": {},
     "output_type": "display_data"
    }
   ],
   "source": [
    "C1 = cT * C1\n",
    "C1i = combinedind(cT)"
   ]
  },
  {
   "cell_type": "code",
   "execution_count": 14,
   "metadata": {},
   "outputs": [
    {
     "data": {
      "text/plain": [
       "ITensor ord=2 (dim=4|id=907|\"CMB,Link\") (dim=4|id=900|\"CMB,Link\")\n",
       "NDTensors.Dense{Float64,Array{Float64,1}}"
      ]
     },
     "metadata": {},
     "output_type": "display_data"
    }
   ],
   "source": [
    "# Contract B and C via matrix multiplication\n",
    "BC = B1*C1"
   ]
  },
  {
   "cell_type": "code",
   "execution_count": 15,
   "metadata": {},
   "outputs": [
    {
     "name": "stdout",
     "output_type": "stream",
     "text": [
      "BC = ITensor ord=2\n",
      "Dim 1: (dim=4|id=907|\"CMB,Link\")\n",
      "Dim 2: (dim=4|id=900|\"CMB,Link\")\n",
      "NDTensors.Dense{Float64,Array{Float64,1}}\n",
      " 4×4\n",
      " -0.6718521036410524   -1.070532523855447     0.701790603040358   -0.1391789372845038\n",
      "  0.6512722461065868    1.6152061556499349   -1.7301392445826342  -0.28947194481761596\n",
      " -0.14843131253328318  -0.4455488769790004    0.5350807669032892   0.12287611576122287\n",
      "  0.998413795647293     0.12986945208102843   1.6132412705740895   1.2805438440693429\n"
     ]
    },
    {
     "data": {
      "text/plain": [
       "ITensor ord=2 (dim=4|id=907|\"CMB,Link\") (dim=4|id=900|\"CMB,Link\")\n",
       "NDTensors.Dense{Float64,Array{Float64,1}}"
      ]
     },
     "metadata": {},
     "output_type": "display_data"
    }
   ],
   "source": [
    "@show BC"
   ]
  },
  {
   "cell_type": "code",
   "execution_count": 17,
   "metadata": {},
   "outputs": [
    {
     "name": "stdout",
     "output_type": "stream",
     "text": [
      "BC = ITensor ord=4\n",
      "Dim 1: (dim=2|id=655|\"index_a\")\n",
      "Dim 2: (dim=2|id=9|\"index_g\")\n",
      "Dim 3: (dim=2|id=675|\"index_b\")\n",
      "Dim 4: (dim=2|id=835|\"index_d\")\n",
      "NDTensors.Dense{Float64,Array{Float64,1}}\n",
      " 2×2×2×2\n",
      "[:, :, 1, 1] =\n",
      " -0.6718521036410524  -0.14843131253328318\n",
      "  0.6512722461065868   0.998413795647293\n",
      "\n",
      "[:, :, 2, 1] =\n",
      " -1.070532523855447   -0.4455488769790004\n",
      "  1.6152061556499349   0.12986945208102843\n",
      "\n",
      "[:, :, 1, 2] =\n",
      "  0.701790603040358   0.5350807669032892\n",
      " -1.7301392445826342  1.6132412705740895\n",
      "\n",
      "[:, :, 2, 2] =\n",
      " -0.1391789372845038   0.12287611576122287\n",
      " -0.28947194481761596  1.2805438440693429\n"
     ]
    },
    {
     "data": {
      "text/plain": [
       "ITensor ord=4 (dim=2|id=655|\"index_a\") (dim=2|id=9|\"index_g\") (dim=2|id=675|\"index_b\") (dim=2|id=835|\"index_d\")\n",
       "NDTensors.Dense{Float64,Array{Float64,1}}"
      ]
     },
     "metadata": {},
     "output_type": "display_data"
    }
   ],
   "source": [
    "# Reshape the BC matrix so that it is a tensor\n",
    "# BC(α*γ,β*δ) --> BC(α,γ,β,δ)\n",
    "\n",
    "M = Array(BC, B1i, C1i)\n",
    "BC = ITensor(M, α, γ, β, δ )\n",
    "@show BC"
   ]
  },
  {
   "cell_type": "code",
   "execution_count": 18,
   "metadata": {},
   "outputs": [
    {
     "data": {
      "text/plain": [
       "ITensor ord=4 (dim=2|id=655|\"index_a\") (dim=2|id=675|\"index_b\") (dim=2|id=9|\"index_g\") (dim=2|id=835|\"index_d\")\n",
       "NDTensors.Dense{Float64,Array{Float64,1}}"
      ]
     },
     "metadata": {},
     "output_type": "display_data"
    }
   ],
   "source": [
    "# Permute BC:\n",
    "# BC(α,γ,β,δ) --> BC(α,β,γ,δ)\n",
    "\n",
    "BC = permute(BC,α,β,γ,δ)"
   ]
  },
  {
   "cell_type": "code",
   "execution_count": 19,
   "metadata": {},
   "outputs": [
    {
     "name": "stdout",
     "output_type": "stream",
     "text": [
      "BC = ITensor ord=2\n",
      "Dim 1: (dim=4|id=993|\"CMB,Link\")\n",
      "Dim 2: (dim=4|id=320|\"CMB,Link\")\n",
      "NDTensors.Dense{Float64,Array{Float64,1}}\n",
      " 4×4\n",
      " -0.6718521036410524    0.6512722461065868  -1.070532523855447     1.6152061556499349\n",
      " -0.14843131253328318   0.998413795647293   -0.4455488769790004    0.12986945208102843\n",
      "  0.701790603040358    -1.7301392445826342  -0.1391789372845038   -0.28947194481761596\n",
      "  0.5350807669032892    1.6132412705740895   0.12287611576122287   1.2805438440693429\n"
     ]
    },
    {
     "data": {
      "text/plain": [
       "ITensor ord=2 (dim=4|id=993|\"CMB,Link\") (dim=4|id=320|\"CMB,Link\")\n",
       "NDTensors.Dense{Float64,Array{Float64,1}}"
      ]
     },
     "metadata": {},
     "output_type": "display_data"
    }
   ],
   "source": [
    "# Reshape the BC tensor so that it is a matrix\n",
    "# BC(α,β,γ,δ) --> BC(α*β,γ*δ)\n",
    "\n",
    "cT = combiner(α,β);\n",
    "BC = cT * BC\n",
    "cT = combiner(γ,δ);\n",
    "BC = cT * BC\n",
    "@show BC"
   ]
  },
  {
   "cell_type": "code",
   "execution_count": 23,
   "metadata": {},
   "outputs": [
    {
     "name": "stdout",
     "output_type": "stream",
     "text": [
      "A = ITensor ord=1\n",
      "Dim 1: (dim=4|id=993|\"CMB,Link\")\n",
      "NDTensors.Dense{Float64,Array{Float64,1}}\n",
      " 4-element\n",
      " -1.5608987974498634\n",
      " -0.5517850949590636\n",
      "  1.2656261685348504\n",
      "  1.3280662204996532\n"
     ]
    },
    {
     "data": {
      "text/plain": [
       "ITensor ord=1 (dim=4|id=993|\"CMB,Link\")\n",
       "NDTensors.Dense{Float64,Array{Float64,1}}"
      ]
     },
     "metadata": {},
     "output_type": "display_data"
    }
   ],
   "source": [
    "# A(γ,δ) --> A(γ*δ)\n",
    "\n",
    "A = cT * A\n",
    "@show A"
   ]
  },
  {
   "cell_type": "code",
   "execution_count": 31,
   "metadata": {},
   "outputs": [
    {
     "data": {
      "text/plain": [
       "ITensor ord=1 (dim=4|id=320|\"CMB,Link\")\n",
       "NDTensors.Dense{Float64,Array{Float64,1}}"
      ]
     },
     "metadata": {},
     "output_type": "display_data"
    }
   ],
   "source": [
    "# Contract BC and A via matrix/vector multiplication\n",
    "T = BC * A"
   ]
  },
  {
   "cell_type": "code",
   "execution_count": 32,
   "metadata": {},
   "outputs": [
    {
     "name": "stdout",
     "output_type": "stream",
     "text": [
      "T = ITensor ord=1\n",
      "Dim 1: (dim=4|id=320|\"CMB,Link\")\n",
      "NDTensors.Dense{Float64,Array{Float64,1}}\n",
      " 4-element\n",
      "  2.7294225703215935\n",
      " -1.6146981829874336\n",
      "  1.9038792720222426\n",
      " -1.2585496191769932\n"
     ]
    },
    {
     "data": {
      "text/plain": [
       "ITensor ord=1 (dim=4|id=320|\"CMB,Link\")\n",
       "NDTensors.Dense{Float64,Array{Float64,1}}"
      ]
     },
     "metadata": {},
     "output_type": "display_data"
    }
   ],
   "source": [
    "@show T"
   ]
  }
 ],
 "metadata": {
  "kernelspec": {
   "display_name": "Julia 1.4.1",
   "language": "julia",
   "name": "julia-1.4"
  },
  "language_info": {
   "file_extension": ".jl",
   "mimetype": "application/julia",
   "name": "julia",
   "version": "1.4.1"
  },
  "orig_nbformat": 4
 },
 "nbformat": 4,
 "nbformat_minor": 2
}

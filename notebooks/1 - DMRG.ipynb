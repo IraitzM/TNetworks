{
 "cells": [
  {
   "cell_type": "markdown",
   "metadata": {},
   "source": [
    "# Density Matrix Renormalization Group"
   ]
  },
  {
   "cell_type": "markdown",
   "metadata": {},
   "source": [
    "The density matrix renormalization group (DMRG) is an algorithm for computing eigenstates of Hamiltonians (or extremal eigenvectors of large, Hermitian matrices). It computes these eigenstates in the matrix product state (MPS) format.\n",
    "\n",
    "Let's see how to set up and run a DMRG calculation using the ITensor library. We will be interested in finding the ground state of the quantum Hamiltonian H given by:\n",
    "\n",
    "$$H = \\sum_{j=1}^{N-1} \\mathbf{S}_{j} \\cdot \\mathbf{S}_{j+1} = \\sum_{j=1}^{N-1} S^z_{j} S^z_{j+1} + \\frac{1}{2} S^+_{j} S^-_{j+1} + \\frac{1}{2} S^-_{j} S^+_{j+1}$$\n",
    "\n",
    "This Hamiltonian is known as the one-dimensional Heisenberg model and we will take the spins to be S=1 spins (spin-one spins). We will consider the case of N=100 and plan to do five sweeps of DMRG (five passes over the system)."
   ]
  },
  {
   "cell_type": "code",
   "execution_count": 1,
   "metadata": {},
   "outputs": [
    {
     "name": "stderr",
     "output_type": "stream",
     "text": [
      "┌ Warning: `randomMPS(sites::Vector{<:Index}, linkdims::Integer)` is deprecated, use `randomMPS(sites; linkdims = linkdims)` instead.\n",
      "│   caller = top-level scope at 1 - DMRG.ipynb:15\n",
      "└ @ Core /home/iraitz/GitHub/TNetworks/notebooks/1 - DMRG.ipynb:15\n"
     ]
    },
    {
     "name": "stdout",
     "output_type": "stream",
     "text": [
      "After sweep 1"
     ]
    },
    {
     "name": "stdout",
     "output_type": "stream",
     "text": [
      " energy=-"
     ]
    },
    {
     "name": "stdout",
     "output_type": "stream",
     "text": [
      "138.847912941843 maxlinkdim=10 maxerr=9.92E"
     ]
    },
    {
     "name": "stdout",
     "output_type": "stream",
     "text": [
      "-03 time=42.299\n"
     ]
    },
    {
     "name": "stdout",
     "output_type": "stream",
     "text": [
      "After sweep 2 energy=-138.937256137351 maxlinkdim=20 maxerr=4.63E-06 time=1.985\n"
     ]
    },
    {
     "name": "stdout",
     "output_type": "stream",
     "text": [
      "After sweep 3 energy=-138.940084392305 maxlinkdim=89 maxerr=1.00E-10 time=13.397\n"
     ]
    },
    {
     "name": "stdout",
     "output_type": "stream",
     "text": [
      "After sweep 4 energy=-138.940086071917 maxlinkdim=99 maxerr=1.00E-10 time=32.327\n"
     ]
    },
    {
     "name": "stdout",
     "output_type": "stream",
     "text": [
      "After sweep 5 energy=-138.940086071145 maxlinkdim=95 maxerr=9.99E-11 time=25.064\n"
     ]
    }
   ],
   "source": [
    "using ITensors\n",
    "\n",
    "let\n",
    "  N = 100\n",
    "  sites = siteinds(\"S=1\",N)\n",
    "\n",
    "  ampo = OpSum()\n",
    "  for j=1:N-1\n",
    "    ampo += \"Sz\",j,\"Sz\",j+1\n",
    "    ampo += 1/2,\"S+\",j,\"S-\",j+1\n",
    "    ampo += 1/2,\"S-\",j,\"S+\",j+1\n",
    "  end\n",
    "  H = MPO(ampo,sites)\n",
    "\n",
    "  psi0 = randomMPS(sites,10)\n",
    "\n",
    "  sweeps = Sweeps(5)\n",
    "  setmaxdim!(sweeps, 10,20,100,100,200)\n",
    "  setcutoff!(sweeps, 1E-10)\n",
    "\n",
    "  energy, psi = dmrg(H,psi0, sweeps)\n",
    "\n",
    "  return\n",
    "end"
   ]
  }
 ],
 "metadata": {
  "kernelspec": {
   "display_name": "Julia 1.4.1",
   "language": "julia",
   "name": "julia-1.4"
  },
  "language_info": {
   "file_extension": ".jl",
   "mimetype": "application/julia",
   "name": "julia",
   "version": "1.4.1"
  },
  "orig_nbformat": 4
 },
 "nbformat": 4,
 "nbformat_minor": 2
}

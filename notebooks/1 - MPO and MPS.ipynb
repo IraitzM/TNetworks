{
 "cells": [
  {
   "cell_type": "markdown",
   "metadata": {},
   "source": [
    "# Matrix Product Operator and State\n",
    "\n",
    "Ref. [documentation](https://itensor.github.io/ITensors.jl/stable/examples/MPSandMPO.html)"
   ]
  },
  {
   "cell_type": "markdown",
   "metadata": {},
   "source": [
    "![mps](../assets/img/mps_from_tensor.png)\n",
    "\n",
    "A matrix product state (MPS) made of N tensors, each with one site or physical index, is a way of representing a single tensor with N indices. One way of obtaining the MPS form of an N-index tensor T is by repeatedly factorizing T into N separate tensors using a factorization such as the Singular Value Decomposition (SVD). This algorithm for obtaining an MPS is known in the mathematics literature as the \"tensor train SVD\" or \"TT-SVD\" algorithm."
   ]
  },
  {
   "cell_type": "code",
   "execution_count": 2,
   "metadata": {},
   "outputs": [
    {
     "data": {
      "text/plain": [
       "MPS\n",
       "[1] ((dim=3|id=836|\"index_i\"), (dim=3|id=221|\"Link,n=1\"))\n",
       "[2] ((dim=3|id=221|\"Link,n=1\"), (dim=2|id=714|\"index_j\"), (dim=6|id=999|\"Link,n=2\"))\n",
       "[3] ((dim=6|id=999|\"Link,n=2\"), (dim=4|id=980|\"index_k\"), (dim=6|id=267|\"Link,n=3\"))\n",
       "[4] ((dim=6|id=267|\"Link,n=3\"), (dim=3|id=618|\"index_l\"), (dim=2|id=401|\"Link,n=4\"))\n",
       "[5] ((dim=2|id=401|\"Link,n=4\"), (dim=2|id=802|\"index_m\"))\n"
      ]
     },
     "metadata": {},
     "output_type": "display_data"
    }
   ],
   "source": [
    "using ITensors\n",
    "\n",
    "cutoff = 1E-8\n",
    "maxdim = 10\n",
    "\n",
    "# Index\n",
    "i = Index(3,\"index_i\")\n",
    "j = Index(2,\"index_j\")\n",
    "k = Index(4,\"index_k\")\n",
    "l = Index(3,\"index_l\")\n",
    "m = Index(2,\"index_m\")\n",
    "\n",
    "T = randomITensor(i,j,k,l,m)\n",
    "M = MPS(T,(i,j,k,l,m);cutoff=cutoff,maxdim=maxdim)"
   ]
  },
  {
   "cell_type": "code",
   "execution_count": 3,
   "metadata": {},
   "outputs": [
    {
     "name": "stdout",
     "output_type": "stream",
     "text": [
      "M = MPS\n",
      "[1] ((dim=3|id=836|\"index_i\"), (dim=3|id=221|\"Link,n=1\"))\n",
      "[2] ((dim=3|id=221|\"Link,n=1\"), (dim=2|id=714|\"index_j\"), (dim=6|id=999|\"Link,n=2\"))\n",
      "[3] ((dim=6|id=999|\"Link,n=2\"), (dim=4|id=980|\"index_k\"), (dim=6|id=267|\"Link,n=3\"))\n",
      "[4] ((dim=6|id=267|\"Link,n=3\"), (dim=3|id=618|\"index_l\"), (dim=2|id=401|\"Link,n=4\"))\n",
      "[5] ((dim=2|id=401|\"Link,n=4\"), (dim=2|id=802|\"index_m\"))\n",
      "\n"
     ]
    },
    {
     "data": {
      "text/plain": [
       "MPS\n",
       "[1] ((dim=3|id=836|\"index_i\"), (dim=3|id=221|\"Link,n=1\"))\n",
       "[2] ((dim=3|id=221|\"Link,n=1\"), (dim=2|id=714|\"index_j\"), (dim=6|id=999|\"Link,n=2\"))\n",
       "[3] ((dim=6|id=999|\"Link,n=2\"), (dim=4|id=980|\"index_k\"), (dim=6|id=267|\"Link,n=3\"))\n",
       "[4] ((dim=6|id=267|\"Link,n=3\"), (dim=3|id=618|\"index_l\"), (dim=2|id=401|\"Link,n=4\"))\n",
       "[5] ((dim=2|id=401|\"Link,n=4\"), (dim=2|id=802|\"index_m\"))\n"
      ]
     },
     "metadata": {},
     "output_type": "display_data"
    }
   ],
   "source": [
    "@show M"
   ]
  }
 ],
 "metadata": {
  "kernelspec": {
   "display_name": "Julia 1.4.1",
   "language": "julia",
   "name": "julia-1.4"
  },
  "language_info": {
   "file_extension": ".jl",
   "mimetype": "application/julia",
   "name": "julia",
   "version": "1.4.1"
  },
  "orig_nbformat": 4
 },
 "nbformat": 4,
 "nbformat_minor": 2
}
